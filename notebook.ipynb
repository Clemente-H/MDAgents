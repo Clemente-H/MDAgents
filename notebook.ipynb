{
 "cells": [
  {
   "cell_type": "code",
   "execution_count": 1,
   "metadata": {},
   "outputs": [
    {
     "name": "stderr",
     "output_type": "stream",
     "text": [
      "/Users/clemente/micromamba/envs/medicalLLM-py311/lib/python3.11/site-packages/tqdm/auto.py:21: TqdmWarning: IProgress not found. Please update jupyter and ipywidgets. See https://ipywidgets.readthedocs.io/en/stable/user_install.html\n",
      "  from .autonotebook import tqdm as notebook_tqdm\n"
     ]
    }
   ],
   "source": [
    "import os\n",
    "from tqdm import tqdm\n",
    "import pandas as pd\n",
    "from src.difficulty_selector import determine_difficulty\n",
    "from src.query_processing import process_advanced_query, process_intermediate_query, process_basic_query"
   ]
  },
  {
   "cell_type": "code",
   "execution_count": 2,
   "metadata": {},
   "outputs": [],
   "source": [
    "\n",
    "df = pd.read_excel('../Medical-LLM-Investigation/data/todas_las_preguntas.xlsx')"
   ]
  },
  {
   "cell_type": "code",
   "execution_count": 3,
   "metadata": {},
   "outputs": [
    {
     "name": "stderr",
     "output_type": "stream",
     "text": [
      "  0%|          | 0/144 [00:00<?, ?it/s]"
     ]
    },
    {
     "name": "stdout",
     "output_type": "stream",
     "text": [
      "../imagenes/AnatomiaTopografica/Abdomen/Fig5-4-abd.jpg\n",
      "Indique la estructura embrionaria contenida en el elemento 7: (a) Vena umbilical obliterada (b) Arteria umbilical obliterada (c) Uraco (d) Conducto venoso\n",
      "[STEP 1] Recruitment\n",
      "Group 1 -  Initial Assessment Team (IAT)\n",
      " Member 1 (Pediatrician (Lead)**): \n",
      " Member 2 (Obstetrician/Gynecologist**): \n",
      " Member 3 (Anatomist**): \n",
      "Group 2 -  Diagnostic Evidence Team (DET)\n",
      " Member 1 (Radiologist (Lead)**): \n",
      " Member 2 (Pathologist**): \n",
      " Member 3 (Geneticist**): \n",
      "Group 3 -  Final Review and Decision Team (FRDT)\n",
      " Member 1 (Senior Pediatric Surgeon (Lead)**): \n",
      " Member 2 (Clinical Genetic Counselor**): \n",
      " Member 3 (Maternal): Fetal Medicine Specialist**\n",
      "[STEP 2] Initial assessment from each group\n",
      "Initial Assessment Con base en las investigaciones realizadas por el obstetra/ginecólogo y el anatomista, podemos concluir que la estructura embrionaria contenida en el elemento 7 más probablemente se clasifica como:\n",
      "\n",
      "**(a) Vena umbilical obliterada**\n",
      "\n",
      "La justificación para esta selección es que la vena umbilical es la que transporta sangre oxigenada desde la placenta hacia el feto y, postnatalmente, se convierte en el ligamento redondo del hígado (vena umbilical obliterada). Además, la descripción y análisis sobre las estructuras presentes sugieren la identificación de la vena umbilical en relación con su curso y función en la circulación fetal. \n",
      "\n",
      "Si hay alguna duda o si se requiere una revisión adicional, estoy a disposición para discutir más a fondo los elementos relacionados.\n",
      "Reports:\n",
      "0\n",
      "Group 1 -  Initial Assessment Team (IAT)\n",
      "Con base en las investigaciones realizadas por el obstetra/ginecólogo y el anatomista, podemos concluir que la estructura embrionaria contenida en el elemento 7 más probablemente se clasifica como:\n",
      "\n",
      "**(a) Vena umbilical obliterada**\n",
      "\n",
      "La justificación para esta selección es que la vena umbilical es la que transporta sangre oxigenada desde la placenta hacia el feto y, postnatalmente, se convierte en el ligamento redondo del hígado (vena umbilical obliterada). Además, la descripción y análisis sobre las estructuras presentes sugieren la identificación de la vena umbilical en relación con su curso y función en la circulación fetal. \n",
      "\n",
      "Si hay alguna duda o si se requiere una revisión adicional, estoy a disposición para discutir más a fondo los elementos relacionados.\n",
      "\n",
      "\n",
      "otros Assessments [[' Diagnostic Evidence Team (DET)', 'La estructura embrionaria contenida en el elemento 7 es: **(c) Uraco**.'], [' Final Review and Decision Team (FRDT)', 'La estructura embrionaria contenida en el elemento 7 es: **(d) Conducto venoso**. \\n\\nEl conducto venoso es un importante conducto fetal que permite el paso de sangre oxigenada de la placenta hacia la circulación fetal, conectando la vena umbilical con la vena cava inferior. Durante el desarrollo, puede obliterarse y convertirse en una estructura fibrosa conocida como ligamento venoso. Las otras opciones, como la vena umbilical y las arterias umbilicales, también cumplen funciones específicas, pero el conducto venoso es la respuesta más precisa en este contexto.']]\n"
     ]
    },
    {
     "name": "stderr",
     "output_type": "stream",
     "text": [
      "  0%|          | 0/144 [02:29<?, ?it/s]"
     ]
    },
    {
     "name": "stdout",
     "output_type": "stream",
     "text": [
      "{0.0: 'Con base en la información proporcionada y la justificación sobre la vena umbilical obliterada, parece que la estructura embrionaria contenida en el elemento 7 se clasifica como:\\n\\n**(a) Vena umbilical obliterada**\\n\\nEsto se debe a su función en la circulación fetal y su transformación postnatal en el ligamento redondo del hígado. Si necesitas más información o aclaraciones, no dudes en preguntar.'}\n"
     ]
    },
    {
     "name": "stderr",
     "output_type": "stream",
     "text": [
      "\n"
     ]
    }
   ],
   "source": [
    "for no, sample in tqdm(df.iterrows(), total=len(df)):\n",
    "    image_path = os.path.join('../', sample['ruta'])\n",
    "    print(image_path)\n",
    "    print(sample['pregunta'])\n",
    "    if os.path.exists(image_path):\n",
    "        #difficulty = determine_difficulty(sample['pregunta'], 'adaptive', image_path)\n",
    "        #print(difficulty)\n",
    "        final_decision = process_advanced_query(sample['pregunta'], model='gpt-4o-mini', args=None, img_path=image_path)\n",
    "        print(final_decision)\n",
    "        break\n"
   ]
  }
 ],
 "metadata": {
  "kernelspec": {
   "display_name": "Python 3",
   "language": "python",
   "name": "python3"
  },
  "language_info": {
   "codemirror_mode": {
    "name": "ipython",
    "version": 3
   },
   "file_extension": ".py",
   "mimetype": "text/x-python",
   "name": "python",
   "nbconvert_exporter": "python",
   "pygments_lexer": "ipython3",
   "version": "3.11.10"
  }
 },
 "nbformat": 4,
 "nbformat_minor": 2
}
