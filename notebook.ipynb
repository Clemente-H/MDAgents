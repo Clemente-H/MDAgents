{
 "cells": [
  {
   "cell_type": "code",
   "execution_count": 1,
   "metadata": {},
   "outputs": [
    {
     "name": "stderr",
     "output_type": "stream",
     "text": [
      "/Users/clemente/micromamba/envs/medicalLLM-py311/lib/python3.11/site-packages/tqdm/auto.py:21: TqdmWarning: IProgress not found. Please update jupyter and ipywidgets. See https://ipywidgets.readthedocs.io/en/stable/user_install.html\n",
      "  from .autonotebook import tqdm as notebook_tqdm\n"
     ]
    }
   ],
   "source": [
    "import os\n",
    "from tqdm import tqdm\n",
    "import pandas as pd\n",
    "from src.difficulty_selector import determine_difficulty\n",
    "from src.query_processing import process_advanced_query, process_intermediate_query, process_basic_query"
   ]
  },
  {
   "cell_type": "code",
   "execution_count": 2,
   "metadata": {},
   "outputs": [],
   "source": [
    "df = pd.read_excel('../Medical-LLM-Investigation/data/todas_las_preguntas.xlsx')"
   ]
  },
  {
   "cell_type": "code",
   "execution_count": 3,
   "metadata": {},
   "outputs": [
    {
     "name": "stderr",
     "output_type": "stream",
     "text": [
      "  0%|          | 0/144 [00:00<?, ?it/s]"
     ]
    },
    {
     "name": "stdout",
     "output_type": "stream",
     "text": [
      "../imagenes/AnatomiaTopografica/Abdomen/Fig5-4-abd.jpg\n",
      "Indique la estructura embrionaria contenida en el elemento 7: (a) Vena umbilical obliterada (b) Arteria umbilical obliterada (c) Uraco (d) Conducto venoso\n"
     ]
    },
    {
     "name": "stderr",
     "output_type": "stream",
     "text": [
      "  1%|          | 1/144 [02:30<5:58:12, 150.30s/it]"
     ]
    },
    {
     "name": "stdout",
     "output_type": "stream",
     "text": [
      "../imagenes/AnatomiaTopografica/Abdomen/Fig5-4-abd.jpg\n",
      "Indique el nombre del elemento 3: (a) Ligamento coronario (b) Ligamento falciforme (c) Ligamento frenohepático (d) Ligamento redondo del hígado\n"
     ]
    },
    {
     "name": "stderr",
     "output_type": "stream",
     "text": [
      "  1%|▏         | 2/144 [05:05<6:02:53, 153.33s/it]"
     ]
    },
    {
     "name": "stdout",
     "output_type": "stream",
     "text": [
      "../imagenes/AnatomiaTopografica/Abdomen/Fig5-4-abd.jpg\n",
      "Indique el nombre del conducto que drena a 8: (a) Conducto cístico (b) Conducto colédoco (c) Conducto vesicular (d) Conducto biliar primario\n"
     ]
    },
    {
     "name": "stderr",
     "output_type": "stream",
     "text": [
      "  2%|▏         | 3/144 [07:33<5:54:50, 150.99s/it]"
     ]
    },
    {
     "name": "stdout",
     "output_type": "stream",
     "text": [
      "../imagenes/AnatomiaTopografica/Abdomen/Fig5-4-abd.jpg\n",
      "Indique el nombre de la estructura marcada con 11: (a) Tenia omental (b) Tenia posterolateral (c) Tenia posteromedial (d) Tenia libre\n"
     ]
    },
    {
     "name": "stderr",
     "output_type": "stream",
     "text": [
      "  3%|▎         | 4/144 [07:50<3:48:44, 98.03s/it] "
     ]
    },
    {
     "name": "stdout",
     "output_type": "stream",
     "text": [
      "../imagenes/AnatomiaTopografica/Abdomen/Fig5-4-abd.jpg\n",
      "La irrigación del elemento marcado con 12 discurre por: (a) Ligamento gastroesplénico (b) Ligamento esplenorenal (c) Ligamento frenoesplénico (d) Ligamento esplenopancreático\n"
     ]
    },
    {
     "name": "stderr",
     "output_type": "stream",
     "text": [
      "  3%|▎         | 5/144 [10:54<5:03:21, 130.94s/it]"
     ]
    },
    {
     "name": "stdout",
     "output_type": "stream",
     "text": [
      "../imagenes/AnatomiaTopografica/Abdomen/Fig5-5-abd.jpg\n",
      "Que tipo de válvula posee el elemento marcado con 5: (a) Válvula espiral (b) Valvula de compuerta (c) No tiene válvula (d) Valvula continua\n"
     ]
    },
    {
     "name": "stderr",
     "output_type": "stream",
     "text": [
      "\n"
     ]
    }
   ],
   "source": [
    "responses = []\n",
    "\n",
    "for no, sample in tqdm(df.iterrows(), total=len(df)):\n",
    "    image_path = os.path.join('../', sample['ruta'])\n",
    "    print(image_path)\n",
    "    print(sample['pregunta'])\n",
    "    if os.path.exists(image_path):\n",
    "        if no == 5:\n",
    "            break\n",
    "        try:\n",
    "            #difficulty = determine_difficulty(sample['pregunta'], 'adaptive', image_path)\n",
    "            #print(difficulty)\n",
    "            final_decision, history = process_advanced_query(sample['pregunta'], model='gpt-4o-mini', args=None, img_path=image_path)\n",
    "            respuesta = {\n",
    "                'no': no,\n",
    "                'categoria_1':sample['categoria_1'],\n",
    "                'categoria_2':sample['categoria_2'],\n",
    "                'pregunta': sample['pregunta'],\n",
    "                'true_answer': sample['respuesta_correcta'],\n",
    "                'img_path':image_path,\n",
    "                'dificulty': 'advanced',\n",
    "                'final_decision':final_decision,\n",
    "                'predicted_answer':'',\n",
    "                'history':history,\n",
    "            }\n",
    "        except:\n",
    "            respuesta = {\n",
    "                'no': no,\n",
    "                'categoria_1':sample['categoria_1'],\n",
    "                'categoria_2':sample['categoria_2'],\n",
    "                'pregunta': sample['pregunta'],\n",
    "                'true_answer': sample['respuesta_correcta'],\n",
    "                'img_path':image_path,\n",
    "                'dificulty': 'advanced',\n",
    "                'final_decision':'Hubo un big problem, oh oh.',\n",
    "                'predicted_answer':'',\n",
    "                'history':'no hay, hubo problem xdxd',\n",
    "            }\n",
    "        responses.append(respuesta)"
   ]
  },
  {
   "cell_type": "code",
   "execution_count": 5,
   "metadata": {},
   "outputs": [
    {
     "name": "stdout",
     "output_type": "stream",
     "text": [
      "Respuestas guardadas en results/responses_first_10_tests.jsonl\n"
     ]
    }
   ],
   "source": [
    "import json\n",
    "# Guardar las respuestas en un archivo JSONL\n",
    "output_file = 'results/responses_first_10_tests.jsonl'\n",
    "with open(output_file, 'w', encoding='utf-8') as f:\n",
    "    for response in responses:\n",
    "        f.write(json.dumps(response, ensure_ascii=False) + '\\n')\n",
    "\n",
    "print(f\"Respuestas guardadas en {output_file}\")"
   ]
  }
 ],
 "metadata": {
  "kernelspec": {
   "display_name": "Python 3",
   "language": "python",
   "name": "python3"
  },
  "language_info": {
   "codemirror_mode": {
    "name": "ipython",
    "version": 3
   },
   "file_extension": ".py",
   "mimetype": "text/x-python",
   "name": "python",
   "nbconvert_exporter": "python",
   "pygments_lexer": "ipython3",
   "version": "3.11.10"
  }
 },
 "nbformat": 4,
 "nbformat_minor": 2
}
